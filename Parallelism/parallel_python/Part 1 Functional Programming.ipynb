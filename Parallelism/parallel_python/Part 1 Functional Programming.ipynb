{
 "cells": [
  {
   "cell_type": "markdown",
   "id": "38b30d9e",
   "metadata": {},
   "source": [
    "## Part 1.1: Functions as Objects"
   ]
  },
  {
   "cell_type": "markdown",
   "id": "73800f27",
   "metadata": {},
   "source": [
    "Functional programming is based on treating a function in the same way as you would a variable or object. So, to start, we should first create a function. This will be a simple function that just adds together two numbers. Please type in ipython"
   ]
  },
  {
   "cell_type": "code",
   "execution_count": 1,
   "id": "0d02dd10",
   "metadata": {},
   "outputs": [],
   "source": [
    "def add(x,y):\n",
    "    \"\"\"Simple function returns the sum of the arguments\"\"\"\n",
    "    return x+y"
   ]
  },
  {
   "cell_type": "markdown",
   "id": "9321a65b",
   "metadata": {},
   "source": [
    "This is a very simple function that just returns the sum of its two arguments. Call the function using, e.g."
   ]
  },
  {
   "cell_type": "code",
   "execution_count": 2,
   "id": "0416f7f4",
   "metadata": {},
   "outputs": [
    {
     "name": "stdout",
     "output_type": "stream",
     "text": [
      "10\n"
     ]
    }
   ],
   "source": [
    "result = add(3,7)\n",
    "print(result)"
   ]
  },
  {
   "cell_type": "markdown",
   "id": "a006c0d3",
   "metadata": {},
   "source": [
    "which should print out 10.\n",
    "\n",
    "In functional programming, a function is treated in exactly the same way as a variable or an object. This means that a function can be assigned to a variable, e.g. type"
   ]
  },
  {
   "cell_type": "code",
   "execution_count": 3,
   "id": "f17011eb",
   "metadata": {},
   "outputs": [
    {
     "name": "stdout",
     "output_type": "stream",
     "text": [
      "10\n"
     ]
    }
   ],
   "source": [
    "a = add\n",
    "result = a(3,7)\n",
    "print(result)"
   ]
  },
  {
   "cell_type": "markdown",
   "id": "4604bdaf",
   "metadata": {},
   "source": [
    "This should print 10 again. Here, we have assigned the function add to the variable a. So how does this work?\n",
    "\n",
    "For variables, you should be comfortable with the idea that a variable refers to a piece of data. For example,"
   ]
  },
  {
   "cell_type": "code",
   "execution_count": 4,
   "id": "e0b68175",
   "metadata": {},
   "outputs": [],
   "source": [
    "b = 10"
   ]
  },
  {
   "cell_type": "markdown",
   "id": "08312b4b",
   "metadata": {},
   "source": [
    "would create a piece of data (the integer 10) and will create a variable b which we use to refer to it. When we type"
   ]
  },
  {
   "cell_type": "code",
   "execution_count": 5,
   "id": "08ab92da",
   "metadata": {},
   "outputs": [],
   "source": [
    "a = b"
   ]
  },
  {
   "cell_type": "markdown",
   "id": "b3e8e7d7",
   "metadata": {},
   "source": [
    "we are creating a new variable a which points to whatever b was pointing to. Now both a and b contain (or point to) the same data.\n",
    "\n",
    "For functional programming, the code of a function is also treated like a piece of data. The code"
   ]
  },
  {
   "cell_type": "code",
   "execution_count": 6,
   "id": "33908b9e",
   "metadata": {},
   "outputs": [],
   "source": [
    "def add(x,y):\n",
    "    \"\"\"Simple function returns the sum of the arguments\"\"\"\n",
    "    return x+y"
   ]
  },
  {
   "cell_type": "markdown",
   "id": "2bbb70f7",
   "metadata": {},
   "source": [
    "creates a new piece of data (the code to add together x and y), and creates a new name add which points to that code. When we then typed"
   ]
  },
  {
   "cell_type": "code",
   "execution_count": 7,
   "id": "0dbc345d",
   "metadata": {},
   "outputs": [],
   "source": [
    "a = add"
   ]
  },
  {
   "cell_type": "markdown",
   "id": "c6d2474c",
   "metadata": {},
   "source": [
    "we created a new variable a which refers to the same piece of code data that add pointed to. Now both a and add or point to the same data, i.e. the same code that adds together the two arguments (e.g. add(3,7) and a(3,7) will call the same code, and give the same result).\n",
    "\n",
    "This means that “code of a function” is a type, in the same way that “integer”, “string” and “floating point number” are types."
   ]
  },
  {
   "cell_type": "markdown",
   "id": "6f3930c5",
   "metadata": {},
   "source": [
    "### Properties of a Function"
   ]
  },
  {
   "cell_type": "markdown",
   "id": "7ea46883",
   "metadata": {},
   "source": [
    "Just as “integer” and “string” have properties, so to does “function”. Type into ipython"
   ]
  },
  {
   "cell_type": "code",
   "execution_count": 8,
   "id": "befef394",
   "metadata": {},
   "outputs": [
    {
     "data": {
      "text/plain": [
       "<method-wrapper '__call__' of function object at 0x7f56ec0c9160>"
      ]
     },
     "execution_count": 8,
     "metadata": {},
     "output_type": "execute_result"
    }
   ],
   "source": [
    "# add.__[TAB]\n",
    "add.__call__"
   ]
  },
  {
   "cell_type": "markdown",
   "id": "6805e516",
   "metadata": {},
   "source": [
    "(where [TAB] means that you should press the tab key)\n",
    "\n",
    "This should show something like"
   ]
  },
  {
   "cell_type": "markdown",
   "id": "3fdd02e1",
   "metadata": {},
   "source": [
    "<code>add.__call__          add.__dict__          add.__hash__          add.__reduce_ex__\n",
    "add.__class__         add.__doc__           add.__init__          add.__repr__\n",
    "add.__closure__       add.__format__        add.__module__        add.__setattr__\n",
    "add.__code__          add.__get__           add.__name__          add.__sizeof__\n",
    "add.__defaults__      add.__getattribute__  add.__new__           add.__str__\n",
    "add.__delattr__       add.__globals__       add.__reduce__        add.__subclasshook__</code>"
   ]
  },
  {
   "cell_type": "markdown",
   "id": "ac5009e5",
   "metadata": {},
   "source": [
    "(exactly what you see will depend on your version of python)\n",
    "\n",
    "This is the list of properties (functions and variables) of a function. The most interesting variables are __name__ and __doc__. Try typing"
   ]
  },
  {
   "cell_type": "code",
   "execution_count": 9,
   "id": "2057b3cb",
   "metadata": {},
   "outputs": [
    {
     "name": "stdout",
     "output_type": "stream",
     "text": [
      "add\n",
      "Simple function returns the sum of the arguments\n"
     ]
    }
   ],
   "source": [
    "print(add.__name__)\n",
    "print(add.__doc__)"
   ]
  },
  {
   "cell_type": "markdown",
   "id": "68cabbe8",
   "metadata": {},
   "source": [
    "From the output, can you guess what these two variables contain?"
   ]
  },
  {
   "cell_type": "markdown",
   "id": "c5cb6bdd",
   "metadata": {},
   "source": [
    "### Functions as Arguments"
   ]
  },
  {
   "cell_type": "markdown",
   "id": "b655ba70",
   "metadata": {},
   "source": [
    "As well as assigning functions to variables, you can also pass functions as arguments. Type this into ipython;"
   ]
  },
  {
   "cell_type": "code",
   "execution_count": 10,
   "id": "a383aec6",
   "metadata": {},
   "outputs": [
    {
     "name": "stdout",
     "output_type": "stream",
     "text": [
      "10\n"
     ]
    }
   ],
   "source": [
    "def call_function(func, arg1, arg2):\n",
    "    \"\"\"\n",
    "    Simple function that calls the function 'func' with  \n",
    "    arguments 'arg1' and 'arg2', returning the result\n",
    "    \"\"\"\n",
    "    return func(arg1, arg2)\n",
    "\n",
    "result = call_function(add, 3, 7)\n",
    "print(result)"
   ]
  },
  {
   "cell_type": "markdown",
   "id": "8a67fd0e",
   "metadata": {},
   "source": [
    "This should print out 10. Can you see why?\n",
    "\n",
    "The function call_function takes three arguments. The first is the function to be called. The second two arguments are the arguments that will be passed to that function. The code in call_function simply calls func using the arguments arg1 and arg2. So far, so useless…\n",
    "\n",
    "However, let us now create another function, called difference. Please type into ipython"
   ]
  },
  {
   "cell_type": "code",
   "execution_count": 11,
   "id": "b14e110f",
   "metadata": {},
   "outputs": [],
   "source": [
    "def diff(x, y):\n",
    "    \"\"\"\n",
    "    Simple function that returns the difference of\n",
    "    its arguments\n",
    "    \"\"\"\n",
    "    return x-y"
   ]
  },
  {
   "cell_type": "markdown",
   "id": "24d9337a",
   "metadata": {},
   "source": [
    "and then type"
   ]
  },
  {
   "cell_type": "code",
   "execution_count": 12,
   "id": "3a393217",
   "metadata": {},
   "outputs": [
    {
     "name": "stdout",
     "output_type": "stream",
     "text": [
      "7\n"
     ]
    }
   ],
   "source": [
    "result = call_function(diff, 9, 2)\n",
    "print(result)"
   ]
  },
  {
   "cell_type": "markdown",
   "id": "e0d90da6",
   "metadata": {},
   "source": [
    "What do you now see? What has happened here?\n",
    "\n",
    "Now we have passed diff to call_function, and so func(arg1,arg2) has used the code contained in diff, e.g. calculating the difference of the two numbers. The result, 7, should be printed.\n",
    "\n",
    "You are probably now wondering how has this helped? Well, let us now change call_function. Please type into ipython"
   ]
  },
  {
   "cell_type": "code",
   "execution_count": 13,
   "id": "9b905b94",
   "metadata": {},
   "outputs": [],
   "source": [
    "def call_function(func, arg1, arg2):\n",
    "    \"\"\"\n",
    "    Simple function that returns the difference of\n",
    "    its arguments\n",
    "    \"\"\"\n",
    "    print(\"Calling function %s with arguments %s and %s.\" % \\\n",
    "            (func.__name__, arg1, arg2))\n",
    "    result = func(arg1, arg2)\n",
    "    print(\"The result is %s\" % result)\n",
    "    return result"
   ]
  },
  {
   "cell_type": "markdown",
   "id": "4dc5cc17",
   "metadata": {},
   "source": [
    "Now type"
   ]
  },
  {
   "cell_type": "code",
   "execution_count": 14,
   "id": "9b21e26c",
   "metadata": {},
   "outputs": [
    {
     "name": "stdout",
     "output_type": "stream",
     "text": [
      "Calling function add with arguments 3 and 7.\n",
      "The result is 10\n"
     ]
    }
   ],
   "source": [
    "result = call_function(add, 3, 7)"
   ]
  },
  {
   "cell_type": "markdown",
   "id": "0230c3a3",
   "metadata": {},
   "source": [
    "Now try"
   ]
  },
  {
   "cell_type": "code",
   "execution_count": 15,
   "id": "e53b0c67",
   "metadata": {},
   "outputs": [
    {
     "name": "stdout",
     "output_type": "stream",
     "text": [
      "Calling function diff with arguments 9 and 2.\n",
      "The result is 7\n"
     ]
    }
   ],
   "source": [
    "result = call_function(diff, 9, 2)"
   ]
  },
  {
   "cell_type": "markdown",
   "id": "a6da0995",
   "metadata": {},
   "source": [
    "The new call_function is now doing something useful. It is printing out extra information about our functions, and can do that for any function (which accepts two arguments) that we pass. For example, now type"
   ]
  },
  {
   "cell_type": "code",
   "execution_count": 16,
   "id": "97a505ea",
   "metadata": {},
   "outputs": [
    {
     "name": "stdout",
     "output_type": "stream",
     "text": [
      "Calling function multiply with arguments 4 and 5.\n",
      "The result is 20\n"
     ]
    }
   ],
   "source": [
    "def multiply(x, y):\n",
    "    \"\"\"\n",
    "    Simple function that returns the multiple of the\n",
    "    two arguments\n",
    "    \"\"\"\n",
    "    return x * y\n",
    "\n",
    "result = call_function(multiply, 4, 5)"
   ]
  },
  {
   "cell_type": "markdown",
   "id": "a4642b63",
   "metadata": {},
   "source": [
    "## Part 1.2: Mapping Functions"
   ]
  },
  {
   "cell_type": "markdown",
   "id": "4d850b06",
   "metadata": {},
   "source": [
    "In many situations you would like to apply the same function to lots of different pieces of data. For example, lets create two arrays of numbers, and use our add function to add pairs of numbers together. In ipython type;"
   ]
  },
  {
   "cell_type": "code",
   "execution_count": 17,
   "id": "cd6ff5a3",
   "metadata": {},
   "outputs": [
    {
     "name": "stdout",
     "output_type": "stream",
     "text": [
      "[7, 9, 11, 13, 15]\n"
     ]
    }
   ],
   "source": [
    "a = [1, 2, 3, 4, 5]\n",
    "b = [6, 7, 8, 9, 10]\n",
    "\n",
    "result = []\n",
    "\n",
    "for i, j in zip(a, b):\n",
    "    result.append(add(i, j))\n",
    "\n",
    "print(result)"
   ]
  },
  {
   "cell_type": "markdown",
   "id": "4a529f12",
   "metadata": {},
   "source": [
    "The above code has looped over every pair of numbers in the lists a and b, and has called the function add for each pair. Each result is appended to the list result, which is printed at the end of the loop.\n",
    "\n",
    "Applying the same function to every item in a list (or pair of lists) of data is really common. For example, in a molecular simulation, you may want to loop over a list of every molecule and call a calculate_energy function for each one. In a fluid dynamics simulation, you may want to loop over a list of grid points and call a solve_gridpoint function for each one. This pattern, of calling the same function for each element of a list (or set of lists) of data, is called mapping. In the above example, we have mapped the function add onto the lists a and b, returning result.\n",
    "\n",
    "The above code mapped the function add. How about if we wanted to map our diff or multiply functions? One option would be to copy out this code again. A better solution would be to use functional programming to write our own mapping function.\n",
    "\n",
    "Type into ipython"
   ]
  },
  {
   "cell_type": "code",
   "execution_count": 18,
   "id": "914492ba",
   "metadata": {},
   "outputs": [
    {
     "name": "stdout",
     "output_type": "stream",
     "text": [
      "[7, 9, 11, 13, 15]\n"
     ]
    }
   ],
   "source": [
    "def mapper(func, arg1, arg2):\n",
    "    \"\"\"\n",
    "    This will map the function 'func' to each pair\n",
    "    of arguments in the list 'arg1' and 'arg2', returning\n",
    "    the result\n",
    "    \"\"\"\n",
    "\n",
    "    res = []\n",
    "\n",
    "    for i, j in zip(arg1, arg2):\n",
    "        res.append(func(i, j))\n",
    "\n",
    "    return res\n",
    "\n",
    "result = mapper(add, a, b)\n",
    "\n",
    "print(result)"
   ]
  },
  {
   "cell_type": "markdown",
   "id": "5d990b83",
   "metadata": {},
   "source": [
    "Now type"
   ]
  },
  {
   "cell_type": "code",
   "execution_count": 19,
   "id": "8b531a08",
   "metadata": {},
   "outputs": [
    {
     "name": "stdout",
     "output_type": "stream",
     "text": [
      "[6, 14, 24, 36, 50]\n"
     ]
    }
   ],
   "source": [
    "result = mapper(multiply, a, b)\n",
    "print(result)"
   ]
  },
  {
   "cell_type": "markdown",
   "id": "ba1012d5",
   "metadata": {},
   "source": [
    "Can you see how this works?\n",
    "\n",
    "The mapper function takes as its first argument the function to be mapped. The other arguments are the two lists of data for the mapping. The part"
   ]
  },
  {
   "cell_type": "markdown",
   "id": "80d3d7b3",
   "metadata": {},
   "source": [
    "<code>zip(arg1, arg2)</code>"
   ]
  },
  {
   "cell_type": "markdown",
   "id": "dc2159d8",
   "metadata": {},
   "source": [
    "takes the two arguments and returns an interator which can go through them both at the same time. As soon as one of them runs out of elements, it will stop. The mapper function then loops through each of these pairs of data, calling func for each pair, and storing the result in the list res. This is then returned at the end.\n",
    "\n",
    "Because the mapper function calls the mapped function using the argument func, it can map any function that is passed to it, as long as that function accepts two arguments. For example, let us now create a completely different function to map. Type into ipython"
   ]
  },
  {
   "cell_type": "code",
   "execution_count": 20,
   "id": "270e5cde",
   "metadata": {},
   "outputs": [],
   "source": [
    "import math\n",
    "\n",
    "def calc_distance(point1, point2):\n",
    "    \"\"\"\n",
    "    Function to calculate and return the distance between\n",
    "    two points\n",
    "    \"\"\"\n",
    "\n",
    "    dx2 = (point1[0] - point2[0]) ** 2\n",
    "    dy2 = (point1[1] - point2[1]) ** 2\n",
    "    dz2 = (point1[2] - point2[2]) ** 2\n",
    "\n",
    "    return math.sqrt(dx2 + dy2 + dz2)"
   ]
  },
  {
   "cell_type": "markdown",
   "id": "bd036839",
   "metadata": {},
   "source": [
    "This has created a function that calculates the distance between two points. Let’s now create two lists of points and use mapper to control the calculation of distances between points. Type into ipython;"
   ]
  },
  {
   "cell_type": "code",
   "execution_count": 21,
   "id": "63aaa112",
   "metadata": {},
   "outputs": [
    {
     "name": "stdout",
     "output_type": "stream",
     "text": [
      "[5.196152422706632, 5.196152422706632, 5.196152422706632]\n"
     ]
    }
   ],
   "source": [
    "points1 = [(1.0,1.0,1.0), (2.0,2.0,2.0), (3.0,3.0,3.0)]\n",
    "points2 = [(4.0,4.0,4.0), (5.0,5.0,5.0), (6.0,6.0,6.0)]\n",
    "\n",
    "distances = mapper(calc_distance, points1, points2)\n",
    "\n",
    "print(distances)"
   ]
  },
  {
   "cell_type": "markdown",
   "id": "33a6d077",
   "metadata": {},
   "source": [
    "### Standard Map"
   ]
  },
  {
   "cell_type": "markdown",
   "id": "70565f2d",
   "metadata": {},
   "source": [
    "Mapping is so common and useful that it is built in as a standard python function, called map. For example, please type"
   ]
  },
  {
   "cell_type": "code",
   "execution_count": 22,
   "id": "aefa7077",
   "metadata": {},
   "outputs": [
    {
     "name": "stdout",
     "output_type": "stream",
     "text": [
      "<map object at 0x7f56ec0f04f0>\n"
     ]
    }
   ],
   "source": [
    "distances = map(calc_distance, points1, points2)\n",
    "\n",
    "print(distances)"
   ]
  },
  {
   "cell_type": "markdown",
   "id": "3d2b8f36",
   "metadata": {},
   "source": [
    "This is perhaps a little unexpected as Python hasn’t actually given us the answer. Instead, the built-in map function has returned an object which is ready and waiting to perform the calculation you’ve asked. This can be useful because by evaluating the map “lazily”, you can avoid unnecessary computation. The technical term for the thing that has been returned is an iterator. You can use this object in a for loop just fine but you can only loop over it once.\n",
    "\n",
    "If you want to force Python to evaluate the map and give you the answers, you can turn it into a list usig the list() function:"
   ]
  },
  {
   "cell_type": "code",
   "execution_count": 23,
   "id": "32a96b50",
   "metadata": {},
   "outputs": [
    {
     "data": {
      "text/plain": [
       "[5.196152422706632, 5.196152422706632, 5.196152422706632]"
      ]
     },
     "execution_count": 23,
     "metadata": {},
     "output_type": "execute_result"
    }
   ],
   "source": [
    "list(distances)"
   ]
  },
  {
   "cell_type": "markdown",
   "id": "b6c0b14a",
   "metadata": {},
   "source": [
    "The standard map function behaves very similar to your hand-written mapper function, returing an iterator containing the result of applying your function to each item of data.\n",
    "\n",
    "One advantage of map is that it knows how to handle multiple arguments. For example, let’s create a function that only maps a single argument. Type into ipython"
   ]
  },
  {
   "cell_type": "code",
   "execution_count": 24,
   "id": "bc1f6229",
   "metadata": {},
   "outputs": [],
   "source": [
    "def square(x):\n",
    "    \"\"\"\n",
    "    Simple function to return the square of\n",
    "    the passed argument\n",
    "    \"\"\"\n",
    "    return x*x"
   ]
  },
  {
   "cell_type": "markdown",
   "id": "bd90d8f4",
   "metadata": {},
   "source": [
    "Now, let’s try to use your handwritten mapper function to map square onto a list of numbers. Type into ipython;"
   ]
  },
  {
   "cell_type": "code",
   "execution_count": 25,
   "id": "24454c68",
   "metadata": {},
   "outputs": [],
   "source": [
    "numbers = [1, 2, 3, 4, 5]\n",
    "\n",
    "# result = mapper(square, numbers)"
   ]
  },
  {
   "cell_type": "markdown",
   "id": "8fcf114b",
   "metadata": {},
   "source": [
    "This should fail, with an error message that looks something like"
   ]
  },
  {
   "cell_type": "markdown",
   "id": "e8d82e24",
   "metadata": {},
   "source": [
    "<code>TypeError: mapper() missing 1 required positional argument: 'arg2'</code>"
   ]
  },
  {
   "cell_type": "markdown",
   "id": "a2f8f5b4",
   "metadata": {},
   "source": [
    "We wrote our mapper function so that it mapped functions that expected two arguments. That meant that our mapper function needs three arguments; the mapped function plus two lists of arguments.\n",
    "\n",
    "The standard map function can handle different numbers of arguments. Type into ipython"
   ]
  },
  {
   "cell_type": "code",
   "execution_count": 26,
   "id": "a209e072",
   "metadata": {},
   "outputs": [
    {
     "name": "stdout",
     "output_type": "stream",
     "text": [
      "[1, 4, 9, 16, 25]\n"
     ]
    }
   ],
   "source": [
    "result = map(square, numbers)\n",
    "\n",
    "print(list(result))"
   ]
  },
  {
   "cell_type": "markdown",
   "id": "e82a6da6",
   "metadata": {},
   "source": [
    "The standard map function can work with mapping functions that accept any number of arguments. If the mapping function accepts n arguments, then you must pass n+1 arguments to map, i.e. the mapped function, plus n lists of arguments.\n",
    "\n",
    "For example, type this into ipython"
   ]
  },
  {
   "cell_type": "code",
   "execution_count": 27,
   "id": "9e2a1d54",
   "metadata": {},
   "outputs": [
    {
     "name": "stdout",
     "output_type": "stream",
     "text": [
      "[1, 2, 1, 2, 1]\n"
     ]
    }
   ],
   "source": [
    "def find_smallest(arg1, arg2, arg3):\n",
    "    \"\"\"\n",
    "    Function used to return the smallest value out \n",
    "    of 'arg1', 'arg2' and 'arg3'\n",
    "    \"\"\"\n",
    "\n",
    "    return min(arg1, min(arg2, arg3))\n",
    "\n",
    "a = [1, 2, 3, 4, 5]\n",
    "b = [5, 4, 3, 2, 1]\n",
    "c = [1, 2, 1, 2, 1]\n",
    "\n",
    "result = map(find_smallest, a, b, c)\n",
    "\n",
    "print(list(result))"
   ]
  },
  {
   "cell_type": "markdown",
   "id": "5bb52ebe",
   "metadata": {},
   "source": [
    "### Exercise"
   ]
  },
  {
   "cell_type": "markdown",
   "id": "748dae2c",
   "metadata": {},
   "source": [
    "Download and unpack the file shakespeare.tar.bz2, e.g. type into a Linux terminal (not ipython):"
   ]
  },
  {
   "cell_type": "markdown",
   "id": "037495a8",
   "metadata": {},
   "source": [
    "<code>wget http://chryswoods.com/parallel_python/shakespeare.tar.bz2\n",
    "tar -jxvf shakespeare.tar.bz2</code>"
   ]
  },
  {
   "cell_type": "markdown",
   "id": "cc5a21b4",
   "metadata": {},
   "source": [
    "This has created a directory called shakespeare that contains the full text of many of Shakespeare’s plays.\n",
    "\n",
    "Your task is to write a Python script, called countlines.py, that will count the total number of lines in each of these Shakespeare plays, e.g. by using the command line call"
   ]
  },
  {
   "cell_type": "markdown",
   "id": "1bd05eea",
   "metadata": {},
   "source": [
    "<code>python countlines.py shakespeare/*</code>"
   ]
  },
  {
   "cell_type": "markdown",
   "id": "4308c325",
   "metadata": {},
   "source": [
    "To do this, first write a function that counts the number of lines in a file.\n",
    "\n",
    "Then, use the standard map function to count the number of lines in each Shakespeare play, printing the result as a list.\n",
    "\n",
    "If you get stuck or want some inspiration, a possible answer is given [here](https://chryswoods.com/parallel_python/map_answer1.html)."
   ]
  },
  {
   "cell_type": "markdown",
   "id": "20f00a2e",
   "metadata": {},
   "source": [
    "## Part 1.3: Reduction"
   ]
  },
  {
   "cell_type": "markdown",
   "id": "1a7d7ccb",
   "metadata": {},
   "source": [
    "We have seen how to map a function across a list of data, with the return value of each function call placed into a list of results. For example, you summed together two lists of numbers using map using code such as this. Start ipython and type"
   ]
  },
  {
   "cell_type": "code",
   "execution_count": 28,
   "id": "5ba78b4e",
   "metadata": {},
   "outputs": [
    {
     "name": "stdout",
     "output_type": "stream",
     "text": [
      "[7, 9, 11, 13, 15]\n"
     ]
    }
   ],
   "source": [
    "def add(x, y):\n",
    "    \"\"\"Function to return the sum of x and y\"\"\"\n",
    "    return x + y\n",
    "\n",
    "a = [1, 2, 3, 4, 5]\n",
    "b = [6, 7, 8, 9, 10]\n",
    "\n",
    "result = map(add, a, b)\n",
    "\n",
    "print(list(result))"
   ]
  },
  {
   "cell_type": "markdown",
   "id": "d7bfea97",
   "metadata": {},
   "source": [
    "This returns a list of results. However, what if we want to sum every value in the returned list of results to form a single value? We could write the code by hand, e.g. type"
   ]
  },
  {
   "cell_type": "code",
   "execution_count": 29,
   "id": "f5807748",
   "metadata": {},
   "outputs": [
    {
     "name": "stdout",
     "output_type": "stream",
     "text": [
      "Total = 55\n"
     ]
    }
   ],
   "source": [
    "total = 0\n",
    "\n",
    "result = map(add, a, b)\n",
    "\n",
    "for i in result:\n",
    "    total += i\n",
    "\n",
    "print(\"Total = %s\" % total)"
   ]
  },
  {
   "cell_type": "markdown",
   "id": "9b3bc769",
   "metadata": {},
   "source": [
    "This process of summing a list of numbers into a total is an example of “reduction”. The list of numbers has been reduced into a total by adding each value onto a running total. Reduction is the complement to mapping, and as such, Python has a reduce function.\n",
    "\n",
    "The reduce function is available from the standard functools module, e.g. type into ipython"
   ]
  },
  {
   "cell_type": "code",
   "execution_count": 30,
   "id": "a8c921b3",
   "metadata": {},
   "outputs": [
    {
     "name": "stdout",
     "output_type": "stream",
     "text": [
      "55\n"
     ]
    }
   ],
   "source": [
    "from functools import reduce\n",
    "\n",
    "result = map(add, a, b)\n",
    "\n",
    "total = reduce(add, result)\n",
    "\n",
    "print(total)"
   ]
  },
  {
   "cell_type": "markdown",
   "id": "5a1acce0",
   "metadata": {},
   "source": [
    "You should see that reduce has returned the result 55.\n",
    "\n",
    "reduce takes two required arguments and one additional, optional argument:\n",
    "\n",
    "1. The reduction function used to reduce a pair of arguments to a single result, e.g. add takes two arguments and returns the sum of those arguments. This can be any function that accepts two arguments and returns a single result.\n",
    "\n",
    "2. The list of values to be reduced.\n",
    "\n",
    "3. An (optional) initial value that is used as the first value for the reduction.\n",
    "\n",
    "For example, type"
   ]
  },
  {
   "cell_type": "code",
   "execution_count": 31,
   "id": "729af01b",
   "metadata": {},
   "outputs": [
    {
     "name": "stdout",
     "output_type": "stream",
     "text": [
      "25\n"
     ]
    }
   ],
   "source": [
    "a = [1, 2, 3, 4, 5]\n",
    "\n",
    "total = reduce(add, a, 10)\n",
    "\n",
    "print(total)"
   ]
  },
  {
   "cell_type": "markdown",
   "id": "aaa068e0",
   "metadata": {},
   "source": [
    "Python’s reduce applies the reduction function (in this case add) cumulatively from left to right along the items of a list. If an initial value is supplied then this is used as the first value. Otherwise, the first value is the result of the reduction function applied to the first two items in the list. In the above case, reduce performed;\n",
    "\n",
    "1. total = 10\n",
    "2. total = add(total, 1)\n",
    "3. total = add(total, 2)\n",
    "4. total = add(total, 3)\n",
    "5. total = add(total, 4)\n",
    "6. total = add(total, 5)\n",
    "\n",
    "The result is thus 25, i.e. (((((10+1)+2)+3)+4)+5).\n",
    "\n",
    "The reduction function can be any function that accepts two arguments and returns a single value. For example, let’s now use reduce to calculate the product of all of the values in the list. To do this, we need to create a new function that will take in two arguments and return their product. Type into ipython;"
   ]
  },
  {
   "cell_type": "code",
   "execution_count": 32,
   "id": "aec16c39",
   "metadata": {},
   "outputs": [
    {
     "name": "stdout",
     "output_type": "stream",
     "text": [
      "120\n"
     ]
    }
   ],
   "source": [
    "def multiply(x, y):\n",
    "    \"\"\"Return the product of the two arguments\"\"\"\n",
    "    return x*y\n",
    "\n",
    "total = reduce(multiply, a)\n",
    "\n",
    "print(total)"
   ]
  },
  {
   "cell_type": "markdown",
   "id": "30c63e0f",
   "metadata": {},
   "source": [
    "You should see that the product is 120. Is this what you expected? In this case, reduce performed;\n",
    "\n",
    "1. total = multiply(1, 2)\n",
    "2. total = multiply(total, 3)\n",
    "3. total = multiply(total, 4)\n",
    "4. total = multiply(total, 5)\n",
    "\n",
    "i.e. it set total equal to ((((1×2)×3)×4)×5) = 120.\n",
    "\n",
    "Note that the reduction function is not limited to just numbers. You can write a reduction function to reduce any types of object together. For example, we could use reduce to join together some strings. Type into ipython;"
   ]
  },
  {
   "cell_type": "code",
   "execution_count": 33,
   "id": "ac58e94a",
   "metadata": {},
   "outputs": [
    {
     "name": "stdout",
     "output_type": "stream",
     "text": [
      "cat dog mouse fish\n"
     ]
    }
   ],
   "source": [
    "def join_strings(x, y):\n",
    "    return \"%s %s\" % (x,y)\n",
    "\n",
    "a = [\"cat\", \"dog\", \"mouse\", \"fish\"]\n",
    "\n",
    "result = reduce(join_strings, a)\n",
    "\n",
    "print(result)"
   ]
  },
  {
   "cell_type": "markdown",
   "id": "bb592be0",
   "metadata": {},
   "source": [
    "### Exercise"
   ]
  },
  {
   "cell_type": "markdown",
   "id": "239f486e",
   "metadata": {},
   "source": [
    "Modify your countlines.py script so that, in addition to printing out the total number of lines in each Shakespeare play, it also uses reduce to print out the total number of lines in all Shakespeare plays.\n",
    "\n",
    "If you get stuck or want some inspiration, a possible answer is given [here](https://chryswoods.com/parallel_python/reduce_answer1.html)."
   ]
  }
 ],
 "metadata": {
  "kernelspec": {
   "display_name": "Python 3 (ipykernel)",
   "language": "python",
   "name": "python3"
  },
  "language_info": {
   "codemirror_mode": {
    "name": "ipython",
    "version": 3
   },
   "file_extension": ".py",
   "mimetype": "text/x-python",
   "name": "python",
   "nbconvert_exporter": "python",
   "pygments_lexer": "ipython3",
   "version": "3.8.10"
  }
 },
 "nbformat": 4,
 "nbformat_minor": 5
}
