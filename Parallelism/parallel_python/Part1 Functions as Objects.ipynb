{
 "cells": [
  {
   "cell_type": "markdown",
   "id": "38b30d9e",
   "metadata": {},
   "source": [
    "## Part 1: Functions as Objects"
   ]
  },
  {
   "cell_type": "markdown",
   "id": "73800f27",
   "metadata": {},
   "source": [
    "Functional programming is based on treating a function in the same way as you would a variable or object. So, to start, we should first create a function. This will be a simple function that just adds together two numbers. Please type in ipython"
   ]
  },
  {
   "cell_type": "code",
   "execution_count": 1,
   "id": "0d02dd10",
   "metadata": {},
   "outputs": [],
   "source": [
    "def add(x,y):\n",
    "    \"\"\"Simple function returns the sum of the arguments\"\"\"\n",
    "    return x+y"
   ]
  },
  {
   "cell_type": "markdown",
   "id": "9321a65b",
   "metadata": {},
   "source": [
    "This is a very simple function that just returns the sum of its two arguments. Call the function using, e.g."
   ]
  },
  {
   "cell_type": "code",
   "execution_count": 2,
   "id": "0416f7f4",
   "metadata": {},
   "outputs": [
    {
     "name": "stdout",
     "output_type": "stream",
     "text": [
      "10\n"
     ]
    }
   ],
   "source": [
    "result = add(3,7)\n",
    "print(result)"
   ]
  },
  {
   "cell_type": "markdown",
   "id": "a006c0d3",
   "metadata": {},
   "source": [
    "which should print out 10.\n",
    "\n",
    "In functional programming, a function is treated in exactly the same way as a variable or an object. This means that a function can be assigned to a variable, e.g. type"
   ]
  },
  {
   "cell_type": "code",
   "execution_count": 3,
   "id": "f17011eb",
   "metadata": {},
   "outputs": [
    {
     "name": "stdout",
     "output_type": "stream",
     "text": [
      "10\n"
     ]
    }
   ],
   "source": [
    "a = add\n",
    "result = a(3,7)\n",
    "print(result)"
   ]
  },
  {
   "cell_type": "markdown",
   "id": "4604bdaf",
   "metadata": {},
   "source": [
    "This should print 10 again. Here, we have assigned the function add to the variable a. So how does this work?\n",
    "\n",
    "For variables, you should be comfortable with the idea that a variable refers to a piece of data. For example,"
   ]
  },
  {
   "cell_type": "code",
   "execution_count": 4,
   "id": "e0b68175",
   "metadata": {},
   "outputs": [],
   "source": [
    "b = 10"
   ]
  },
  {
   "cell_type": "markdown",
   "id": "08312b4b",
   "metadata": {},
   "source": [
    "would create a piece of data (the integer 10) and will create a variable b which we use to refer to it. When we type"
   ]
  },
  {
   "cell_type": "code",
   "execution_count": 5,
   "id": "08ab92da",
   "metadata": {},
   "outputs": [],
   "source": [
    "a = b"
   ]
  },
  {
   "cell_type": "markdown",
   "id": "b3e8e7d7",
   "metadata": {},
   "source": [
    "we are creating a new variable a which points to whatever b was pointing to. Now both a and b contain (or point to) the same data.\n",
    "\n",
    "For functional programming, the code of a function is also treated like a piece of data. The code"
   ]
  },
  {
   "cell_type": "code",
   "execution_count": 6,
   "id": "33908b9e",
   "metadata": {},
   "outputs": [],
   "source": [
    "def add(x,y):\n",
    "    \"\"\"Simple function returns the sum of the arguments\"\"\"\n",
    "    return x+y"
   ]
  },
  {
   "cell_type": "markdown",
   "id": "2bbb70f7",
   "metadata": {},
   "source": [
    "creates a new piece of data (the code to add together x and y), and creates a new name add which points to that code. When we then typed"
   ]
  },
  {
   "cell_type": "code",
   "execution_count": 7,
   "id": "0dbc345d",
   "metadata": {},
   "outputs": [],
   "source": [
    "a = add"
   ]
  },
  {
   "cell_type": "markdown",
   "id": "c6d2474c",
   "metadata": {},
   "source": [
    "we created a new variable a which refers to the same piece of code data that add pointed to. Now both a and add or point to the same data, i.e. the same code that adds together the two arguments (e.g. add(3,7) and a(3,7) will call the same code, and give the same result).\n",
    "\n",
    "This means that “code of a function” is a type, in the same way that “integer”, “string” and “floating point number” are types."
   ]
  },
  {
   "cell_type": "markdown",
   "id": "6f3930c5",
   "metadata": {},
   "source": [
    "### Properties of a Function"
   ]
  },
  {
   "cell_type": "markdown",
   "id": "7ea46883",
   "metadata": {},
   "source": [
    "Just as “integer” and “string” have properties, so to does “function”. Type into ipython"
   ]
  },
  {
   "cell_type": "code",
   "execution_count": 8,
   "id": "befef394",
   "metadata": {},
   "outputs": [
    {
     "data": {
      "text/plain": [
       "<method-wrapper '__call__' of function object at 0x7f90cc345550>"
      ]
     },
     "execution_count": 8,
     "metadata": {},
     "output_type": "execute_result"
    }
   ],
   "source": [
    "# add.__[TAB]\n",
    "add.__call__"
   ]
  },
  {
   "cell_type": "markdown",
   "id": "6805e516",
   "metadata": {},
   "source": [
    "(where [TAB] means that you should press the tab key)\n",
    "\n",
    "This should show something like"
   ]
  },
  {
   "cell_type": "markdown",
   "id": "3fdd02e1",
   "metadata": {},
   "source": [
    "<code>add.__call__          add.__dict__          add.__hash__          add.__reduce_ex__\n",
    "add.__class__         add.__doc__           add.__init__          add.__repr__\n",
    "add.__closure__       add.__format__        add.__module__        add.__setattr__\n",
    "add.__code__          add.__get__           add.__name__          add.__sizeof__\n",
    "add.__defaults__      add.__getattribute__  add.__new__           add.__str__\n",
    "add.__delattr__       add.__globals__       add.__reduce__        add.__subclasshook__</code>"
   ]
  },
  {
   "cell_type": "markdown",
   "id": "ac5009e5",
   "metadata": {},
   "source": [
    "(exactly what you see will depend on your version of python)\n",
    "\n",
    "This is the list of properties (functions and variables) of a function. The most interesting variables are __name__ and __doc__. Try typing"
   ]
  },
  {
   "cell_type": "code",
   "execution_count": 9,
   "id": "2057b3cb",
   "metadata": {},
   "outputs": [
    {
     "name": "stdout",
     "output_type": "stream",
     "text": [
      "add\n",
      "Simple function returns the sum of the arguments\n"
     ]
    }
   ],
   "source": [
    "print(add.__name__)\n",
    "print(add.__doc__)"
   ]
  },
  {
   "cell_type": "markdown",
   "id": "68cabbe8",
   "metadata": {},
   "source": [
    "From the output, can you guess what these two variables contain?"
   ]
  },
  {
   "cell_type": "markdown",
   "id": "c5cb6bdd",
   "metadata": {},
   "source": [
    "### Functions as Arguments"
   ]
  },
  {
   "cell_type": "markdown",
   "id": "b655ba70",
   "metadata": {},
   "source": [
    "As well as assigning functions to variables, you can also pass functions as arguments. Type this into ipython;"
   ]
  },
  {
   "cell_type": "code",
   "execution_count": 10,
   "id": "a383aec6",
   "metadata": {},
   "outputs": [
    {
     "name": "stdout",
     "output_type": "stream",
     "text": [
      "10\n"
     ]
    }
   ],
   "source": [
    "def call_function(func, arg1, arg2):\n",
    "    \"\"\"\n",
    "    Simple function that calls the function 'func' with  \n",
    "    arguments 'arg1' and 'arg2', returning the result\n",
    "    \"\"\"\n",
    "    return func(arg1, arg2)\n",
    "\n",
    "result = call_function(add, 3, 7)\n",
    "print(result)"
   ]
  },
  {
   "cell_type": "markdown",
   "id": "8a67fd0e",
   "metadata": {},
   "source": [
    "This should print out 10. Can you see why?\n",
    "\n",
    "The function call_function takes three arguments. The first is the function to be called. The second two arguments are the arguments that will be passed to that function. The code in call_function simply calls func using the arguments arg1 and arg2. So far, so useless…\n",
    "\n",
    "However, let us now create another function, called difference. Please type into ipython"
   ]
  },
  {
   "cell_type": "code",
   "execution_count": 11,
   "id": "b14e110f",
   "metadata": {},
   "outputs": [],
   "source": [
    "def diff(x, y):\n",
    "    \"\"\"\n",
    "    Simple function that returns the difference of\n",
    "    its arguments\n",
    "    \"\"\"\n",
    "    return x-y"
   ]
  },
  {
   "cell_type": "markdown",
   "id": "24d9337a",
   "metadata": {},
   "source": [
    "and then type"
   ]
  },
  {
   "cell_type": "code",
   "execution_count": 12,
   "id": "3a393217",
   "metadata": {},
   "outputs": [
    {
     "name": "stdout",
     "output_type": "stream",
     "text": [
      "7\n"
     ]
    }
   ],
   "source": [
    "result = call_function(diff, 9, 2)\n",
    "print(result)"
   ]
  },
  {
   "cell_type": "markdown",
   "id": "e0d90da6",
   "metadata": {},
   "source": [
    "What do you now see? What has happened here?\n",
    "\n",
    "Now we have passed diff to call_function, and so func(arg1,arg2) has used the code contained in diff, e.g. calculating the difference of the two numbers. The result, 7, should be printed.\n",
    "\n",
    "You are probably now wondering how has this helped? Well, let us now change call_function. Please type into ipython"
   ]
  },
  {
   "cell_type": "code",
   "execution_count": 13,
   "id": "9b905b94",
   "metadata": {},
   "outputs": [],
   "source": [
    "def call_function(func, arg1, arg2):\n",
    "    \"\"\"\n",
    "    Simple function that returns the difference of\n",
    "    its arguments\n",
    "    \"\"\"\n",
    "    print(\"Calling function %s with arguments %s and %s.\" % \\\n",
    "            (func.__name__, arg1, arg2))\n",
    "    result = func(arg1, arg2)\n",
    "    print(\"The result is %s\" % result)\n",
    "    return result"
   ]
  },
  {
   "cell_type": "markdown",
   "id": "4dc5cc17",
   "metadata": {},
   "source": [
    "Now type"
   ]
  },
  {
   "cell_type": "code",
   "execution_count": 14,
   "id": "9b21e26c",
   "metadata": {},
   "outputs": [
    {
     "name": "stdout",
     "output_type": "stream",
     "text": [
      "Calling function add with arguments 3 and 7.\n",
      "The result is 10\n"
     ]
    }
   ],
   "source": [
    "result = call_function(add, 3, 7)"
   ]
  },
  {
   "cell_type": "markdown",
   "id": "0230c3a3",
   "metadata": {},
   "source": [
    "Now try"
   ]
  },
  {
   "cell_type": "code",
   "execution_count": 15,
   "id": "e53b0c67",
   "metadata": {},
   "outputs": [
    {
     "name": "stdout",
     "output_type": "stream",
     "text": [
      "Calling function diff with arguments 9 and 2.\n",
      "The result is 7\n"
     ]
    }
   ],
   "source": [
    "result = call_function(diff, 9, 2)"
   ]
  },
  {
   "cell_type": "markdown",
   "id": "a6da0995",
   "metadata": {},
   "source": [
    "The new call_function is now doing something useful. It is printing out extra information about our functions, and can do that for any function (which accepts two arguments) that we pass. For example, now type"
   ]
  },
  {
   "cell_type": "code",
   "execution_count": 16,
   "id": "97a505ea",
   "metadata": {},
   "outputs": [
    {
     "name": "stdout",
     "output_type": "stream",
     "text": [
      "Calling function multiply with arguments 4 and 5.\n",
      "The result is 20\n"
     ]
    }
   ],
   "source": [
    "def multiply(x, y):\n",
    "    \"\"\"\n",
    "    Simple function that returns the multiple of the\n",
    "    two arguments\n",
    "    \"\"\"\n",
    "    return x * y\n",
    "\n",
    "result = call_function(multiply, 4, 5)"
   ]
  }
 ],
 "metadata": {
  "kernelspec": {
   "display_name": "Python 3 (ipykernel)",
   "language": "python",
   "name": "python3"
  },
  "language_info": {
   "codemirror_mode": {
    "name": "ipython",
    "version": 3
   },
   "file_extension": ".py",
   "mimetype": "text/x-python",
   "name": "python",
   "nbconvert_exporter": "python",
   "pygments_lexer": "ipython3",
   "version": "3.9.1"
  }
 },
 "nbformat": 4,
 "nbformat_minor": 5
}
